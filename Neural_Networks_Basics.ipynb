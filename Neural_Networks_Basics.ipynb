{
  "nbformat": 4,
  "nbformat_minor": 0,
  "metadata": {
    "colab": {
      "provenance": [],
      "include_colab_link": true
    },
    "kernelspec": {
      "name": "python3",
      "display_name": "Python 3"
    },
    "language_info": {
      "name": "python"
    }
  },
  "cells": [
    {
      "cell_type": "markdown",
      "metadata": {
        "id": "view-in-github",
        "colab_type": "text"
      },
      "source": [
        "<a href=\"https://colab.research.google.com/github/bsnehil/MachineLearning/blob/main/Neural_Networks_Basics.ipynb\" target=\"_parent\"><img src=\"https://colab.research.google.com/assets/colab-badge.svg\" alt=\"Open In Colab\"/></a>"
      ]
    },
    {
      "cell_type": "markdown",
      "source": [
        "\n",
        "# Digit Recognizer Dataset Introduction\n",
        "\n",
        "## Introduction\n",
        "\n",
        "Handwritten digit recognition is a foundational task in computer vision where the goal is to classify images of handwritten digits into one of 10 classes (0-9). This is commonly achieved using the training dataset, a benchmark dataset containing hand written digit images of 28x28 grayscale digits.\n",
        "\n",
        "<center><img src=\"https://www.researchgate.net/publication/356832977/figure/fig1/AS:1099757049122816@1639213921297/Digit-recognition-scenario-addressed-with-the-proposed-neural-network.png\" width = 700 height = 300 /></center>\n",
        "\n",
        "## Objective:\n",
        "\n",
        "In this module, we aim to build a model which can recognise hand written digits.\n",
        "\n",
        "- **1. Loading Data and Preprocessing:**\n",
        "     - Load and display image data.\n",
        "     - Get the distribution of class.\n",
        "\n",
        "- **2. Train and validation split:**\n",
        "     - Split data into 80-20 portion.\n",
        "     - Check train and validation data classes proportion.\n",
        "\n",
        "- **3. Convert data to tensors:**\n",
        "    - Convert data to tensor so that it can be consumed by the pytorch model.\n",
        "\n",
        "- **4. Create FNN (Feedforward Neural Network):**\n",
        "    - Create model architecture.\n",
        "    - Train the model.\n",
        "\n",
        "- **5. Model Evaluation :**\n",
        "     - Evaluate the performance of the model using graphs and different metrics.\n",
        "\n",
        "## Data Description:\n",
        "\n",
        "The data files `train.csv` and `test.csv` contain gray-scale images of hand-drawn digits, from zero through nine.\n",
        "\n",
        "Each image is 28 pixels in height and 28 pixels in width, for a total of 784 pixels in total. Each pixel has a single pixel-value associated with it, indicating the lightness or darkness of that pixel, with higher numbers meaning darker. This pixel-value is an integer between 0 and 255, inclusive.\n",
        "\n",
        "The training data set, (`train.csv`), has 785 columns. The first column, called \"label\", is the digit that was drawn by the user. The rest of the columns contain the pixel-values of the associated image.\n",
        "\n",
        "Each `pixel` column in the training set has a name like pixelx, where x is an integer between 0 and 783, inclusive. To locate this pixel on the image, suppose that we have decomposed x as x = i * 28 + j, where i and j are integers between 0 and 27, inclusive. Then pixelx is located on row i and column j of a 28 x 28 matrix, (indexing by zero).\n",
        "\n",
        "For example, pixel31 indicates the pixel that is in the fourth column from the left, and the second row from the top, as in the ascii-diagram below."
      ],
      "metadata": {
        "id": "_Zde7QhhJsIq"
      }
    },
    {
      "cell_type": "code",
      "source": [
        "# PyTorch imports for building, training, and working with neural networks\n",
        "import torch                       # Tensor operations and deep learning model support\n",
        "import torch.nn as nn              # For defining neural network layers\n",
        "import torch.nn.functional as F    # Provides activation functions and other utilities\n",
        "\n",
        "# Scikit-learn import for splitting data and confusion matrix\n",
        "from sklearn.model_selection import train_test_split\n",
        "from sklearn.metrics import confusion_matrix\n",
        "\n",
        "# Data handling and numerical computation libraries\n",
        "import pandas as pd                # For handling structured data\n",
        "import numpy as np                 # For numerical operations and array manipulations\n",
        "\n",
        "# Visualization library\n",
        "import matplotlib.pyplot as plt    # For creating visualizations like graphs and plots\n",
        "\n",
        "# Import the warnings module, which allows control over warning messages\n",
        "import warnings\n",
        "\n",
        "# Suppress all warnings in the script\n",
        "warnings.filterwarnings(\"ignore\")"
      ],
      "metadata": {
        "id": "MabsDJe4tQgs"
      },
      "execution_count": 1,
      "outputs": []
    },
    {
      "cell_type": "markdown",
      "source": [
        "# 1. Loading Data and Preprocessing\n",
        "\n",
        "There are 2 .csv files.\n",
        "\n",
        "- **train.csv** - contains information about 42 000 (60% of the whole MNIST dataset) gray-scale images of hand-drawn digits (from 0 to 9).\n",
        "First column is the digit. The rest 784 columns represent pixels of hand-drawn digit (each image has 28 x 28 pixels shape). The value of each pixel-column is an intager between 0 and 255 - represent darkness or lightness of the given pixel.\n",
        "\n",
        "- **test.csv** - contains information about 28 000 gray-scale images of hand-drawn digits (from 0 to 9). Doesn't contain labels."
      ],
      "metadata": {
        "id": "WjVtLgYvls06"
      }
    },
    {
      "cell_type": "markdown",
      "source": [
        "# 1.1 Load and display image data"
      ],
      "metadata": {
        "id": "IaH8He0UzDoc"
      }
    },
    {
      "cell_type": "code",
      "source": [
        "# Mount Google Drive\n",
        "from google.colab import drive # Used for mounting Google Drive\n",
        "drive.mount(\"/content/gdrive\")"
      ],
      "metadata": {
        "colab": {
          "base_uri": "https://localhost:8080/"
        },
        "id": "Qu-PoXXBZRIk",
        "outputId": "c7f33661-43f5-4e53-e293-d923ad540e10"
      },
      "execution_count": 7,
      "outputs": [
        {
          "output_type": "stream",
          "name": "stdout",
          "text": [
            "Mounted at /content/gdrive\n"
          ]
        }
      ]
    },
    {
      "cell_type": "code",
      "execution_count": 10,
      "metadata": {
        "id": "nEIUPDGuJeJd",
        "outputId": "596a0d78-236e-4d44-fc6c-ae3bb15ffa8e",
        "colab": {
          "base_uri": "https://localhost:8080/"
        }
      },
      "outputs": [
        {
          "output_type": "stream",
          "name": "stdout",
          "text": [
            "Train data shape: (42000, 785)\n",
            "Test data shape: (28000, 784)\n"
          ]
        }
      ],
      "source": [
        "# Read data\n",
        "train_data = pd.read_csv('/content/gdrive/MyDrive/content/DigitRecognizerDataset/train.csv')\n",
        "test = pd.read_csv('/content/gdrive/MyDrive/content/DigitRecognizerDataset/test.csv')\n",
        "\n",
        "# Check that we loaded data correctly\n",
        "print(\"Train data shape:\", train_data.shape)\n",
        "print(\"Test data shape:\", test.shape)"
      ]
    },
    {
      "cell_type": "code",
      "source": [
        "train_data"
      ],
      "metadata": {
        "colab": {
          "base_uri": "https://localhost:8080/",
          "height": 424
        },
        "id": "EeEDSWoKjVOm",
        "outputId": "4e0447af-5823-44fc-d805-d20cf9928a9d"
      },
      "execution_count": 13,
      "outputs": [
        {
          "output_type": "execute_result",
          "data": {
            "text/plain": [
              "       label  pixel0  pixel1  pixel2  pixel3  pixel4  pixel5  pixel6  pixel7  \\\n",
              "0          1       0       0       0       0       0       0       0       0   \n",
              "1          0       0       0       0       0       0       0       0       0   \n",
              "2          1       0       0       0       0       0       0       0       0   \n",
              "3          4       0       0       0       0       0       0       0       0   \n",
              "4          0       0       0       0       0       0       0       0       0   \n",
              "...      ...     ...     ...     ...     ...     ...     ...     ...     ...   \n",
              "41995      0       0       0       0       0       0       0       0       0   \n",
              "41996      1       0       0       0       0       0       0       0       0   \n",
              "41997      7       0       0       0       0       0       0       0       0   \n",
              "41998      6       0       0       0       0       0       0       0       0   \n",
              "41999      9       0       0       0       0       0       0       0       0   \n",
              "\n",
              "       pixel8  ...  pixel774  pixel775  pixel776  pixel777  pixel778  \\\n",
              "0           0  ...         0         0         0         0         0   \n",
              "1           0  ...         0         0         0         0         0   \n",
              "2           0  ...         0         0         0         0         0   \n",
              "3           0  ...         0         0         0         0         0   \n",
              "4           0  ...         0         0         0         0         0   \n",
              "...       ...  ...       ...       ...       ...       ...       ...   \n",
              "41995       0  ...         0         0         0         0         0   \n",
              "41996       0  ...         0         0         0         0         0   \n",
              "41997       0  ...         0         0         0         0         0   \n",
              "41998       0  ...         0         0         0         0         0   \n",
              "41999       0  ...         0         0         0         0         0   \n",
              "\n",
              "       pixel779  pixel780  pixel781  pixel782  pixel783  \n",
              "0             0         0         0         0         0  \n",
              "1             0         0         0         0         0  \n",
              "2             0         0         0         0         0  \n",
              "3             0         0         0         0         0  \n",
              "4             0         0         0         0         0  \n",
              "...         ...       ...       ...       ...       ...  \n",
              "41995         0         0         0         0         0  \n",
              "41996         0         0         0         0         0  \n",
              "41997         0         0         0         0         0  \n",
              "41998         0         0         0         0         0  \n",
              "41999         0         0         0         0         0  \n",
              "\n",
              "[42000 rows x 785 columns]"
            ],
            "text/html": [
              "\n",
              "  <div id=\"df-cb126632-5f9b-478d-a41e-30cd1f47007f\" class=\"colab-df-container\">\n",
              "    <div>\n",
              "<style scoped>\n",
              "    .dataframe tbody tr th:only-of-type {\n",
              "        vertical-align: middle;\n",
              "    }\n",
              "\n",
              "    .dataframe tbody tr th {\n",
              "        vertical-align: top;\n",
              "    }\n",
              "\n",
              "    .dataframe thead th {\n",
              "        text-align: right;\n",
              "    }\n",
              "</style>\n",
              "<table border=\"1\" class=\"dataframe\">\n",
              "  <thead>\n",
              "    <tr style=\"text-align: right;\">\n",
              "      <th></th>\n",
              "      <th>label</th>\n",
              "      <th>pixel0</th>\n",
              "      <th>pixel1</th>\n",
              "      <th>pixel2</th>\n",
              "      <th>pixel3</th>\n",
              "      <th>pixel4</th>\n",
              "      <th>pixel5</th>\n",
              "      <th>pixel6</th>\n",
              "      <th>pixel7</th>\n",
              "      <th>pixel8</th>\n",
              "      <th>...</th>\n",
              "      <th>pixel774</th>\n",
              "      <th>pixel775</th>\n",
              "      <th>pixel776</th>\n",
              "      <th>pixel777</th>\n",
              "      <th>pixel778</th>\n",
              "      <th>pixel779</th>\n",
              "      <th>pixel780</th>\n",
              "      <th>pixel781</th>\n",
              "      <th>pixel782</th>\n",
              "      <th>pixel783</th>\n",
              "    </tr>\n",
              "  </thead>\n",
              "  <tbody>\n",
              "    <tr>\n",
              "      <th>0</th>\n",
              "      <td>1</td>\n",
              "      <td>0</td>\n",
              "      <td>0</td>\n",
              "      <td>0</td>\n",
              "      <td>0</td>\n",
              "      <td>0</td>\n",
              "      <td>0</td>\n",
              "      <td>0</td>\n",
              "      <td>0</td>\n",
              "      <td>0</td>\n",
              "      <td>...</td>\n",
              "      <td>0</td>\n",
              "      <td>0</td>\n",
              "      <td>0</td>\n",
              "      <td>0</td>\n",
              "      <td>0</td>\n",
              "      <td>0</td>\n",
              "      <td>0</td>\n",
              "      <td>0</td>\n",
              "      <td>0</td>\n",
              "      <td>0</td>\n",
              "    </tr>\n",
              "    <tr>\n",
              "      <th>1</th>\n",
              "      <td>0</td>\n",
              "      <td>0</td>\n",
              "      <td>0</td>\n",
              "      <td>0</td>\n",
              "      <td>0</td>\n",
              "      <td>0</td>\n",
              "      <td>0</td>\n",
              "      <td>0</td>\n",
              "      <td>0</td>\n",
              "      <td>0</td>\n",
              "      <td>...</td>\n",
              "      <td>0</td>\n",
              "      <td>0</td>\n",
              "      <td>0</td>\n",
              "      <td>0</td>\n",
              "      <td>0</td>\n",
              "      <td>0</td>\n",
              "      <td>0</td>\n",
              "      <td>0</td>\n",
              "      <td>0</td>\n",
              "      <td>0</td>\n",
              "    </tr>\n",
              "    <tr>\n",
              "      <th>2</th>\n",
              "      <td>1</td>\n",
              "      <td>0</td>\n",
              "      <td>0</td>\n",
              "      <td>0</td>\n",
              "      <td>0</td>\n",
              "      <td>0</td>\n",
              "      <td>0</td>\n",
              "      <td>0</td>\n",
              "      <td>0</td>\n",
              "      <td>0</td>\n",
              "      <td>...</td>\n",
              "      <td>0</td>\n",
              "      <td>0</td>\n",
              "      <td>0</td>\n",
              "      <td>0</td>\n",
              "      <td>0</td>\n",
              "      <td>0</td>\n",
              "      <td>0</td>\n",
              "      <td>0</td>\n",
              "      <td>0</td>\n",
              "      <td>0</td>\n",
              "    </tr>\n",
              "    <tr>\n",
              "      <th>3</th>\n",
              "      <td>4</td>\n",
              "      <td>0</td>\n",
              "      <td>0</td>\n",
              "      <td>0</td>\n",
              "      <td>0</td>\n",
              "      <td>0</td>\n",
              "      <td>0</td>\n",
              "      <td>0</td>\n",
              "      <td>0</td>\n",
              "      <td>0</td>\n",
              "      <td>...</td>\n",
              "      <td>0</td>\n",
              "      <td>0</td>\n",
              "      <td>0</td>\n",
              "      <td>0</td>\n",
              "      <td>0</td>\n",
              "      <td>0</td>\n",
              "      <td>0</td>\n",
              "      <td>0</td>\n",
              "      <td>0</td>\n",
              "      <td>0</td>\n",
              "    </tr>\n",
              "    <tr>\n",
              "      <th>4</th>\n",
              "      <td>0</td>\n",
              "      <td>0</td>\n",
              "      <td>0</td>\n",
              "      <td>0</td>\n",
              "      <td>0</td>\n",
              "      <td>0</td>\n",
              "      <td>0</td>\n",
              "      <td>0</td>\n",
              "      <td>0</td>\n",
              "      <td>0</td>\n",
              "      <td>...</td>\n",
              "      <td>0</td>\n",
              "      <td>0</td>\n",
              "      <td>0</td>\n",
              "      <td>0</td>\n",
              "      <td>0</td>\n",
              "      <td>0</td>\n",
              "      <td>0</td>\n",
              "      <td>0</td>\n",
              "      <td>0</td>\n",
              "      <td>0</td>\n",
              "    </tr>\n",
              "    <tr>\n",
              "      <th>...</th>\n",
              "      <td>...</td>\n",
              "      <td>...</td>\n",
              "      <td>...</td>\n",
              "      <td>...</td>\n",
              "      <td>...</td>\n",
              "      <td>...</td>\n",
              "      <td>...</td>\n",
              "      <td>...</td>\n",
              "      <td>...</td>\n",
              "      <td>...</td>\n",
              "      <td>...</td>\n",
              "      <td>...</td>\n",
              "      <td>...</td>\n",
              "      <td>...</td>\n",
              "      <td>...</td>\n",
              "      <td>...</td>\n",
              "      <td>...</td>\n",
              "      <td>...</td>\n",
              "      <td>...</td>\n",
              "      <td>...</td>\n",
              "      <td>...</td>\n",
              "    </tr>\n",
              "    <tr>\n",
              "      <th>41995</th>\n",
              "      <td>0</td>\n",
              "      <td>0</td>\n",
              "      <td>0</td>\n",
              "      <td>0</td>\n",
              "      <td>0</td>\n",
              "      <td>0</td>\n",
              "      <td>0</td>\n",
              "      <td>0</td>\n",
              "      <td>0</td>\n",
              "      <td>0</td>\n",
              "      <td>...</td>\n",
              "      <td>0</td>\n",
              "      <td>0</td>\n",
              "      <td>0</td>\n",
              "      <td>0</td>\n",
              "      <td>0</td>\n",
              "      <td>0</td>\n",
              "      <td>0</td>\n",
              "      <td>0</td>\n",
              "      <td>0</td>\n",
              "      <td>0</td>\n",
              "    </tr>\n",
              "    <tr>\n",
              "      <th>41996</th>\n",
              "      <td>1</td>\n",
              "      <td>0</td>\n",
              "      <td>0</td>\n",
              "      <td>0</td>\n",
              "      <td>0</td>\n",
              "      <td>0</td>\n",
              "      <td>0</td>\n",
              "      <td>0</td>\n",
              "      <td>0</td>\n",
              "      <td>0</td>\n",
              "      <td>...</td>\n",
              "      <td>0</td>\n",
              "      <td>0</td>\n",
              "      <td>0</td>\n",
              "      <td>0</td>\n",
              "      <td>0</td>\n",
              "      <td>0</td>\n",
              "      <td>0</td>\n",
              "      <td>0</td>\n",
              "      <td>0</td>\n",
              "      <td>0</td>\n",
              "    </tr>\n",
              "    <tr>\n",
              "      <th>41997</th>\n",
              "      <td>7</td>\n",
              "      <td>0</td>\n",
              "      <td>0</td>\n",
              "      <td>0</td>\n",
              "      <td>0</td>\n",
              "      <td>0</td>\n",
              "      <td>0</td>\n",
              "      <td>0</td>\n",
              "      <td>0</td>\n",
              "      <td>0</td>\n",
              "      <td>...</td>\n",
              "      <td>0</td>\n",
              "      <td>0</td>\n",
              "      <td>0</td>\n",
              "      <td>0</td>\n",
              "      <td>0</td>\n",
              "      <td>0</td>\n",
              "      <td>0</td>\n",
              "      <td>0</td>\n",
              "      <td>0</td>\n",
              "      <td>0</td>\n",
              "    </tr>\n",
              "    <tr>\n",
              "      <th>41998</th>\n",
              "      <td>6</td>\n",
              "      <td>0</td>\n",
              "      <td>0</td>\n",
              "      <td>0</td>\n",
              "      <td>0</td>\n",
              "      <td>0</td>\n",
              "      <td>0</td>\n",
              "      <td>0</td>\n",
              "      <td>0</td>\n",
              "      <td>0</td>\n",
              "      <td>...</td>\n",
              "      <td>0</td>\n",
              "      <td>0</td>\n",
              "      <td>0</td>\n",
              "      <td>0</td>\n",
              "      <td>0</td>\n",
              "      <td>0</td>\n",
              "      <td>0</td>\n",
              "      <td>0</td>\n",
              "      <td>0</td>\n",
              "      <td>0</td>\n",
              "    </tr>\n",
              "    <tr>\n",
              "      <th>41999</th>\n",
              "      <td>9</td>\n",
              "      <td>0</td>\n",
              "      <td>0</td>\n",
              "      <td>0</td>\n",
              "      <td>0</td>\n",
              "      <td>0</td>\n",
              "      <td>0</td>\n",
              "      <td>0</td>\n",
              "      <td>0</td>\n",
              "      <td>0</td>\n",
              "      <td>...</td>\n",
              "      <td>0</td>\n",
              "      <td>0</td>\n",
              "      <td>0</td>\n",
              "      <td>0</td>\n",
              "      <td>0</td>\n",
              "      <td>0</td>\n",
              "      <td>0</td>\n",
              "      <td>0</td>\n",
              "      <td>0</td>\n",
              "      <td>0</td>\n",
              "    </tr>\n",
              "  </tbody>\n",
              "</table>\n",
              "<p>42000 rows × 785 columns</p>\n",
              "</div>\n",
              "    <div class=\"colab-df-buttons\">\n",
              "\n",
              "  <div class=\"colab-df-container\">\n",
              "    <button class=\"colab-df-convert\" onclick=\"convertToInteractive('df-cb126632-5f9b-478d-a41e-30cd1f47007f')\"\n",
              "            title=\"Convert this dataframe to an interactive table.\"\n",
              "            style=\"display:none;\">\n",
              "\n",
              "  <svg xmlns=\"http://www.w3.org/2000/svg\" height=\"24px\" viewBox=\"0 -960 960 960\">\n",
              "    <path d=\"M120-120v-720h720v720H120Zm60-500h600v-160H180v160Zm220 220h160v-160H400v160Zm0 220h160v-160H400v160ZM180-400h160v-160H180v160Zm440 0h160v-160H620v160ZM180-180h160v-160H180v160Zm440 0h160v-160H620v160Z\"/>\n",
              "  </svg>\n",
              "    </button>\n",
              "\n",
              "  <style>\n",
              "    .colab-df-container {\n",
              "      display:flex;\n",
              "      gap: 12px;\n",
              "    }\n",
              "\n",
              "    .colab-df-convert {\n",
              "      background-color: #E8F0FE;\n",
              "      border: none;\n",
              "      border-radius: 50%;\n",
              "      cursor: pointer;\n",
              "      display: none;\n",
              "      fill: #1967D2;\n",
              "      height: 32px;\n",
              "      padding: 0 0 0 0;\n",
              "      width: 32px;\n",
              "    }\n",
              "\n",
              "    .colab-df-convert:hover {\n",
              "      background-color: #E2EBFA;\n",
              "      box-shadow: 0px 1px 2px rgba(60, 64, 67, 0.3), 0px 1px 3px 1px rgba(60, 64, 67, 0.15);\n",
              "      fill: #174EA6;\n",
              "    }\n",
              "\n",
              "    .colab-df-buttons div {\n",
              "      margin-bottom: 4px;\n",
              "    }\n",
              "\n",
              "    [theme=dark] .colab-df-convert {\n",
              "      background-color: #3B4455;\n",
              "      fill: #D2E3FC;\n",
              "    }\n",
              "\n",
              "    [theme=dark] .colab-df-convert:hover {\n",
              "      background-color: #434B5C;\n",
              "      box-shadow: 0px 1px 3px 1px rgba(0, 0, 0, 0.15);\n",
              "      filter: drop-shadow(0px 1px 2px rgba(0, 0, 0, 0.3));\n",
              "      fill: #FFFFFF;\n",
              "    }\n",
              "  </style>\n",
              "\n",
              "    <script>\n",
              "      const buttonEl =\n",
              "        document.querySelector('#df-cb126632-5f9b-478d-a41e-30cd1f47007f button.colab-df-convert');\n",
              "      buttonEl.style.display =\n",
              "        google.colab.kernel.accessAllowed ? 'block' : 'none';\n",
              "\n",
              "      async function convertToInteractive(key) {\n",
              "        const element = document.querySelector('#df-cb126632-5f9b-478d-a41e-30cd1f47007f');\n",
              "        const dataTable =\n",
              "          await google.colab.kernel.invokeFunction('convertToInteractive',\n",
              "                                                    [key], {});\n",
              "        if (!dataTable) return;\n",
              "\n",
              "        const docLinkHtml = 'Like what you see? Visit the ' +\n",
              "          '<a target=\"_blank\" href=https://colab.research.google.com/notebooks/data_table.ipynb>data table notebook</a>'\n",
              "          + ' to learn more about interactive tables.';\n",
              "        element.innerHTML = '';\n",
              "        dataTable['output_type'] = 'display_data';\n",
              "        await google.colab.output.renderOutput(dataTable, element);\n",
              "        const docLink = document.createElement('div');\n",
              "        docLink.innerHTML = docLinkHtml;\n",
              "        element.appendChild(docLink);\n",
              "      }\n",
              "    </script>\n",
              "  </div>\n",
              "\n",
              "\n",
              "    <div id=\"df-b2275119-7f75-4d35-8add-18d857210a09\">\n",
              "      <button class=\"colab-df-quickchart\" onclick=\"quickchart('df-b2275119-7f75-4d35-8add-18d857210a09')\"\n",
              "                title=\"Suggest charts\"\n",
              "                style=\"display:none;\">\n",
              "\n",
              "<svg xmlns=\"http://www.w3.org/2000/svg\" height=\"24px\"viewBox=\"0 0 24 24\"\n",
              "     width=\"24px\">\n",
              "    <g>\n",
              "        <path d=\"M19 3H5c-1.1 0-2 .9-2 2v14c0 1.1.9 2 2 2h14c1.1 0 2-.9 2-2V5c0-1.1-.9-2-2-2zM9 17H7v-7h2v7zm4 0h-2V7h2v10zm4 0h-2v-4h2v4z\"/>\n",
              "    </g>\n",
              "</svg>\n",
              "      </button>\n",
              "\n",
              "<style>\n",
              "  .colab-df-quickchart {\n",
              "      --bg-color: #E8F0FE;\n",
              "      --fill-color: #1967D2;\n",
              "      --hover-bg-color: #E2EBFA;\n",
              "      --hover-fill-color: #174EA6;\n",
              "      --disabled-fill-color: #AAA;\n",
              "      --disabled-bg-color: #DDD;\n",
              "  }\n",
              "\n",
              "  [theme=dark] .colab-df-quickchart {\n",
              "      --bg-color: #3B4455;\n",
              "      --fill-color: #D2E3FC;\n",
              "      --hover-bg-color: #434B5C;\n",
              "      --hover-fill-color: #FFFFFF;\n",
              "      --disabled-bg-color: #3B4455;\n",
              "      --disabled-fill-color: #666;\n",
              "  }\n",
              "\n",
              "  .colab-df-quickchart {\n",
              "    background-color: var(--bg-color);\n",
              "    border: none;\n",
              "    border-radius: 50%;\n",
              "    cursor: pointer;\n",
              "    display: none;\n",
              "    fill: var(--fill-color);\n",
              "    height: 32px;\n",
              "    padding: 0;\n",
              "    width: 32px;\n",
              "  }\n",
              "\n",
              "  .colab-df-quickchart:hover {\n",
              "    background-color: var(--hover-bg-color);\n",
              "    box-shadow: 0 1px 2px rgba(60, 64, 67, 0.3), 0 1px 3px 1px rgba(60, 64, 67, 0.15);\n",
              "    fill: var(--button-hover-fill-color);\n",
              "  }\n",
              "\n",
              "  .colab-df-quickchart-complete:disabled,\n",
              "  .colab-df-quickchart-complete:disabled:hover {\n",
              "    background-color: var(--disabled-bg-color);\n",
              "    fill: var(--disabled-fill-color);\n",
              "    box-shadow: none;\n",
              "  }\n",
              "\n",
              "  .colab-df-spinner {\n",
              "    border: 2px solid var(--fill-color);\n",
              "    border-color: transparent;\n",
              "    border-bottom-color: var(--fill-color);\n",
              "    animation:\n",
              "      spin 1s steps(1) infinite;\n",
              "  }\n",
              "\n",
              "  @keyframes spin {\n",
              "    0% {\n",
              "      border-color: transparent;\n",
              "      border-bottom-color: var(--fill-color);\n",
              "      border-left-color: var(--fill-color);\n",
              "    }\n",
              "    20% {\n",
              "      border-color: transparent;\n",
              "      border-left-color: var(--fill-color);\n",
              "      border-top-color: var(--fill-color);\n",
              "    }\n",
              "    30% {\n",
              "      border-color: transparent;\n",
              "      border-left-color: var(--fill-color);\n",
              "      border-top-color: var(--fill-color);\n",
              "      border-right-color: var(--fill-color);\n",
              "    }\n",
              "    40% {\n",
              "      border-color: transparent;\n",
              "      border-right-color: var(--fill-color);\n",
              "      border-top-color: var(--fill-color);\n",
              "    }\n",
              "    60% {\n",
              "      border-color: transparent;\n",
              "      border-right-color: var(--fill-color);\n",
              "    }\n",
              "    80% {\n",
              "      border-color: transparent;\n",
              "      border-right-color: var(--fill-color);\n",
              "      border-bottom-color: var(--fill-color);\n",
              "    }\n",
              "    90% {\n",
              "      border-color: transparent;\n",
              "      border-bottom-color: var(--fill-color);\n",
              "    }\n",
              "  }\n",
              "</style>\n",
              "\n",
              "      <script>\n",
              "        async function quickchart(key) {\n",
              "          const quickchartButtonEl =\n",
              "            document.querySelector('#' + key + ' button');\n",
              "          quickchartButtonEl.disabled = true;  // To prevent multiple clicks.\n",
              "          quickchartButtonEl.classList.add('colab-df-spinner');\n",
              "          try {\n",
              "            const charts = await google.colab.kernel.invokeFunction(\n",
              "                'suggestCharts', [key], {});\n",
              "          } catch (error) {\n",
              "            console.error('Error during call to suggestCharts:', error);\n",
              "          }\n",
              "          quickchartButtonEl.classList.remove('colab-df-spinner');\n",
              "          quickchartButtonEl.classList.add('colab-df-quickchart-complete');\n",
              "        }\n",
              "        (() => {\n",
              "          let quickchartButtonEl =\n",
              "            document.querySelector('#df-b2275119-7f75-4d35-8add-18d857210a09 button');\n",
              "          quickchartButtonEl.style.display =\n",
              "            google.colab.kernel.accessAllowed ? 'block' : 'none';\n",
              "        })();\n",
              "      </script>\n",
              "    </div>\n",
              "\n",
              "  <div id=\"id_718244b1-3f07-476e-b493-1e05a8d3cf10\">\n",
              "    <style>\n",
              "      .colab-df-generate {\n",
              "        background-color: #E8F0FE;\n",
              "        border: none;\n",
              "        border-radius: 50%;\n",
              "        cursor: pointer;\n",
              "        display: none;\n",
              "        fill: #1967D2;\n",
              "        height: 32px;\n",
              "        padding: 0 0 0 0;\n",
              "        width: 32px;\n",
              "      }\n",
              "\n",
              "      .colab-df-generate:hover {\n",
              "        background-color: #E2EBFA;\n",
              "        box-shadow: 0px 1px 2px rgba(60, 64, 67, 0.3), 0px 1px 3px 1px rgba(60, 64, 67, 0.15);\n",
              "        fill: #174EA6;\n",
              "      }\n",
              "\n",
              "      [theme=dark] .colab-df-generate {\n",
              "        background-color: #3B4455;\n",
              "        fill: #D2E3FC;\n",
              "      }\n",
              "\n",
              "      [theme=dark] .colab-df-generate:hover {\n",
              "        background-color: #434B5C;\n",
              "        box-shadow: 0px 1px 3px 1px rgba(0, 0, 0, 0.15);\n",
              "        filter: drop-shadow(0px 1px 2px rgba(0, 0, 0, 0.3));\n",
              "        fill: #FFFFFF;\n",
              "      }\n",
              "    </style>\n",
              "    <button class=\"colab-df-generate\" onclick=\"generateWithVariable('train_data')\"\n",
              "            title=\"Generate code using this dataframe.\"\n",
              "            style=\"display:none;\">\n",
              "\n",
              "  <svg xmlns=\"http://www.w3.org/2000/svg\" height=\"24px\"viewBox=\"0 0 24 24\"\n",
              "       width=\"24px\">\n",
              "    <path d=\"M7,19H8.4L18.45,9,17,7.55,7,17.6ZM5,21V16.75L18.45,3.32a2,2,0,0,1,2.83,0l1.4,1.43a1.91,1.91,0,0,1,.58,1.4,1.91,1.91,0,0,1-.58,1.4L9.25,21ZM18.45,9,17,7.55Zm-12,3A5.31,5.31,0,0,0,4.9,8.1,5.31,5.31,0,0,0,1,6.5,5.31,5.31,0,0,0,4.9,4.9,5.31,5.31,0,0,0,6.5,1,5.31,5.31,0,0,0,8.1,4.9,5.31,5.31,0,0,0,12,6.5,5.46,5.46,0,0,0,6.5,12Z\"/>\n",
              "  </svg>\n",
              "    </button>\n",
              "    <script>\n",
              "      (() => {\n",
              "      const buttonEl =\n",
              "        document.querySelector('#id_718244b1-3f07-476e-b493-1e05a8d3cf10 button.colab-df-generate');\n",
              "      buttonEl.style.display =\n",
              "        google.colab.kernel.accessAllowed ? 'block' : 'none';\n",
              "\n",
              "      buttonEl.onclick = () => {\n",
              "        google.colab.notebook.generateWithVariable('train_data');\n",
              "      }\n",
              "      })();\n",
              "    </script>\n",
              "  </div>\n",
              "\n",
              "    </div>\n",
              "  </div>\n"
            ],
            "application/vnd.google.colaboratory.intrinsic+json": {
              "type": "dataframe",
              "variable_name": "train_data"
            }
          },
          "metadata": {},
          "execution_count": 13
        }
      ]
    },
    {
      "cell_type": "markdown",
      "source": [
        "# 1.2 Get the distribution of class"
      ],
      "metadata": {
        "id": "ElO_BZrthsy8"
      }
    },
    {
      "cell_type": "code",
      "source": [
        "# Count the occurrences of each label in the \"label\" column of the training data\n",
        "label_counts = train_data[\"label\"].value_counts().sort_index()\n",
        "\n",
        "# Plot a bar chart for the label counts\n",
        "label_counts.plot.bar()\n",
        "\n",
        "# Add a horizontal dotted line at y = 4000, spanning x-values from -1 to 10\n",
        "plt.hlines(xmin=-1, xmax=10, y=4000, linestyles='dotted')"
      ],
      "metadata": {
        "id": "tVX4LE-Vgm5s",
        "colab": {
          "base_uri": "https://localhost:8080/",
          "height": 461
        },
        "outputId": "181865ae-49c7-4c95-c8e0-57c0004ab3ac"
      },
      "execution_count": 12,
      "outputs": [
        {
          "output_type": "execute_result",
          "data": {
            "text/plain": [
              "<matplotlib.collections.LineCollection at 0x7ff2c1aa2a50>"
            ]
          },
          "metadata": {},
          "execution_count": 12
        },
        {
          "output_type": "display_data",
          "data": {
            "text/plain": [
              "<Figure size 640x480 with 1 Axes>"
            ],
            "image/png": "[encoded data removed]"
          },
          "metadata": {}
        }
      ]
    },
    {
      "cell_type": "markdown",
      "source": [
        "**Explanation:**\n",
        "Converting a DataFrame to a NumPy array provides better control over the data processing pipeline, especially when working with datasets like the MNIST digits dataset. Here’s why this step is important and beneficial:\n",
        "\n",
        "- **Streamlined Data Handling:** NumPy arrays are the standard input format for most machine learning libraries (e.g., TensorFlow, PyTorch, Scikit-learn). By converting your DataFrame to a NumPy array, you ensure compatibility and simplify the integration of your data into these frameworks.\n",
        "\n",
        "- **Performance Optimization:** NumPy arrays are highly optimized for numerical operations and memory management. This can lead to faster computations compared to using DataFrames, especially when performing operations on large datasets like MNIST.\n",
        "\n",
        "- **Avoid Potential Issues:** DataFrames may include metadata, index labels, or mixed data types, which could inadvertently cause errors or inefficiencies during processing. Explicitly converting to a NumPy array strips away this additional structure, leaving only the raw numerical data required for model training or evaluation."
      ],
      "metadata": {
        "id": "dnaKJwPNZfTF"
      }
    },
    {
      "cell_type": "code",
      "source": [
        "# Extract all columns except the first (assumed to be labels) as features (pixel data)\n",
        "train_all = train_data.iloc[:, 1:]  # Only features (pixels)\n",
        "\n",
        "# Extract the \"label\" column as the target variable\n",
        "train_all_label = train_data[\"label\"]  # Labels\n",
        "\n",
        "# Convert the features DataFrame to a NumPy array for further processing\n",
        "train_all_numpy = train_all.to_numpy()\n",
        "\n",
        "# Convert the labels Series to a NumPy array\n",
        "train_all_label_numpy = train_all_label.to_numpy()\n",
        "\n",
        "# Convert the test data DataFrame to a NumPy array\n",
        "test_numpy = test.to_numpy()"
      ],
      "metadata": {
        "id": "s70SyQ8mt1RJ"
      },
      "execution_count": 14,
      "outputs": []
    },
    {
      "cell_type": "markdown",
      "source": [
        "Next step is to plot the images.\n",
        "The `plot_img` function serves the following purposes:\n",
        "\n",
        "1. **Visualization of Image Data:**\n",
        "  - Visualizing images helps in understanding the dataset better. For example:\n",
        "    - It allows you to confirm that the images are correctly loaded and preprocessed.\n",
        "    - It provides insights into the patterns and variability in the image data.\n",
        "2. **Label Verification:**\n",
        "- By displaying both the image and its corresponding label, the function allows you to verify that the labels align correctly with the images. This can help identify data mismatches or labeling errors.\n",
        "\n",
        "**Output:**\n",
        "  - The output will be 3x3 grid of images along with the labels."
      ],
      "metadata": {
        "id": "e2BVLIEgaQS5"
      }
    },
    {
      "cell_type": "code",
      "source": [
        "def plot_img(data, label):\n",
        "    \"\"\"\n",
        "    Plots a 3x3 grid of images along with their corresponding labels.\n",
        "\n",
        "    Parameters:\n",
        "    data (numpy.ndarray): A NumPy array containing the pixel data for the images.\n",
        "                          Each image should be flattened (e.g., 784 pixels for 28x28 images).\n",
        "    label (numpy.ndarray): A NumPy array containing the labels for the images.\n",
        "\n",
        "    Returns:\n",
        "    None: Displays the plot with images and labels.\n",
        "    \"\"\"\n",
        "\n",
        "    # Create a 3x3 grid of subplots (9 images in total)\n",
        "    fig, axs = plt.subplots(3, 3)\n",
        "\n",
        "    k = 0  # Initialize counter for the image index\n",
        "\n",
        "    # Loop through each row (i) and column (j) of the grid\n",
        "    for i in range(3):\n",
        "        for j in range(3):\n",
        "            # Display the k-th image in the grid, reshaping it to 28x28 and converting to uint8\n",
        "            axs[i, j].imshow(data[k].astype('uint8').reshape(28, 28))  # Plot image\n",
        "\n",
        "            # Set the label for the image as the subplot's y-axis label\n",
        "            axs[i, j].set_ylabel(\"label:\" + str(label[k].item()))  # Print label\n",
        "\n",
        "            k += 1  # Increment the counter"
      ],
      "metadata": {
        "id": "8GTW8IHJi_lP"
      },
      "execution_count": 15,
      "outputs": []
    },
    {
      "cell_type": "code",
      "source": [
        "# Call the function to plot images with corresponding labels\n",
        "plot_img(train_all_numpy, train_all_label_numpy)"
      ],
      "metadata": {
        "id": "8_UCppelhdxX",
        "colab": {
          "base_uri": "https://localhost:8080/",
          "height": 433
        },
        "outputId": "895cc9d1-71f1-444c-ebf1-153b749d8cfb"
      },
      "execution_count": 16,
      "outputs": [
        {
          "output_type": "display_data",
          "data": {
            "text/plain": [
              "<Figure size 640x480 with 9 Axes>"
            ],
            "image/png": "[encoded data removed]"
          },
          "metadata": {}
        }
      ]
    },
    {
      "cell_type": "markdown",
      "source": [
        "# 2. Train and validation split\n",
        "\n",
        "The process of splitting a dataset into training and validation sets is a critical step in machine learning. It ensures that the model is trained on one portion of the data and evaluated on another to measure its performance and generalizability."
      ],
      "metadata": {
        "id": "RMSRAMhziUJG"
      }
    },
    {
      "cell_type": "markdown",
      "source": [
        "# 2.1 Split data into 80-20 portion\n",
        "\n",
        "We will randomly split the training data into training and validation datasets in the proportion 80:20.\n",
        "To do so, we will be using `train_test_split()` function from `sklearn` module."
      ],
      "metadata": {
        "id": "TQ164Wm-ii1a"
      }
    },
    {
      "cell_type": "code",
      "source": [
        "# Split the data into training and validation sets\n",
        "# `test_size=0.2` means 20% of the data will be used for validation, and 80% for training\n",
        "train, validation, train_label, validation_label = train_test_split(\n",
        "    train_all_numpy, train_all_label_numpy, test_size=0.2\n",
        ")\n",
        "\n",
        "# Print the shape of the training data to verify the split\n",
        "print(train.shape)  # Shape of the training features (80% of total data)\n",
        "\n",
        "# Print the shape of the training labels to ensure it matches the training features\n",
        "print(train_label.shape)  # Shape of the training labels (corresponding to 80% data)\n",
        "\n",
        "# Print the shape of the validation data\n",
        "print(validation.shape)  # Shape of the validation features (20% of total data)\n",
        "\n",
        "# Print the shape of the validation labels to ensure it matches the validation features\n",
        "print(validation_label.shape)  # Shape of the validation labels (corresponding to 20% data)"
      ],
      "metadata": {
        "id": "4zKmCiI8t-Mg",
        "colab": {
          "base_uri": "https://localhost:8080/"
        },
        "outputId": "d61fc4a4-3e1d-4fd2-8605-8dbe8afcd576"
      },
      "execution_count": null,
      "outputs": [
        {
          "output_type": "stream",
          "name": "stdout",
          "text": [
            "(33600, 784)\n",
            "(33600,)\n",
            "(8400, 784)\n",
            "(8400,)\n"
          ]
        }
      ]
    },
    {
      "cell_type": "markdown",
      "source": [
        "# 2.2 Check train and validation data classes proportion\n",
        "\n",
        "It involves verifying if both datasets represent all classes in fair proportion. Ensuring consistent proportions prevents class imbalance issues that can affect model performance."
      ],
      "metadata": {
        "id": "g_CJ8FQfvfs3"
      }
    },
    {
      "cell_type": "code",
      "source": [
        "# Get the unique class labels and their counts for the training data\n",
        "unique, counts_train = np.unique(train_label, return_counts=True)\n",
        "\n",
        "# Create the first subplot for the training data class distribution\n",
        "plt.subplot(1, 2, 1)\n",
        "# Plot the class distribution as a bar chart, normalized by the total number of training labels\n",
        "plt.bar(unique, counts_train / len(train_label))\n",
        "\n",
        "# Get the unique class labels and their counts for the validation data\n",
        "unique, counts_val = np.unique(validation_label, return_counts=True)\n",
        "\n",
        "# Create the second subplot for the validation data class distribution\n",
        "plt.subplot(1, 2, 2)\n",
        "# Plot the class distribution as a bar chart, normalized by the total number of validation labels\n",
        "plt.bar(unique, counts_val / len(validation_label))\n",
        "\n",
        "# Optionally, print the class distribution for both training and validation sets as a table-like format\n",
        "#print(np.asarray((unique, counts_train / len(train_label), counts_val / len(validation_label))).T)"
      ],
      "metadata": {
        "id": "2TI2JyMpvVzo",
        "colab": {
          "base_uri": "https://localhost:8080/",
          "height": 448
        },
        "outputId": "dfd2c432-f062-4b74-848c-30732157f390"
      },
      "execution_count": null,
      "outputs": [
        {
          "output_type": "execute_result",
          "data": {
            "text/plain": [
              "<BarContainer object of 10 artists>"
            ]
          },
          "metadata": {},
          "execution_count": 9
        },
        {
          "output_type": "display_data",
          "data": {
            "text/plain": [
              "<Figure size 640x480 with 2 Axes>"
            ],
            "image/png": "[encoded data removed]"
          },
          "metadata": {}
        }
      ]
    },
    {
      "cell_type": "markdown",
      "source": [
        "** Interpretation:**\n",
        "There are no class imbalance issues and all the classes seem to be proportionately represented."
      ],
      "metadata": {
        "id": "u5dC8r0nbbwg"
      }
    },
    {
      "cell_type": "markdown",
      "source": [
        "# 3. Convert data to tensors\n",
        "\n",
        "Tensors are multi-dimensional arrays that are a generalization of scalars, vectors, and matrices. They form the core data structure in deep learning frameworks like `PyTorch` and `TensorFlow`. Tensors allow for efficient computation on GPU and CPU, making them ideal for machine learning and deep learning tasks.\n",
        "\n",
        "To use data in PyTorch models, it needs to be converted into tensors. This is done using `torch.tensor()` or by converting NumPy arrays directly to tensors. Tensors are multi-dimensional arrays that are the core data structure in PyTorch, similar to NumPy arrays, but optimized for GPU computations."
      ],
      "metadata": {
        "id": "pYR1uvY_l3J_"
      }
    },
    {
      "cell_type": "code",
      "source": [
        "# Convert the training feature data (NumPy array) to a PyTorch tensor and ensure it is of type FloatTensor\n",
        "train_all_tensor = torch.as_tensor(train_all_numpy).type(torch.FloatTensor)\n",
        "\n",
        "# Convert the training label data (NumPy array) to a PyTorch tensor (default type)\n",
        "train_all_label_tensor = torch.as_tensor(train_all_label_numpy)\n",
        "\n",
        "# Convert the test feature data (NumPy array) to a PyTorch tensor and ensure it is of type FloatTensor\n",
        "test_tensor = torch.as_tensor(test_numpy).type(torch.FloatTensor)\n",
        "\n",
        "# Convert the split training feature data (NumPy array) to a PyTorch tensor and ensure it is of type FloatTensor\n",
        "train_tensor = torch.as_tensor(train).type(torch.FloatTensor)\n",
        "\n",
        "# Convert the split training label data (NumPy array) to a PyTorch tensor (default type)\n",
        "train_label = torch.as_tensor(train_label)\n",
        "\n",
        "# Convert the split validation feature data (NumPy array) to a PyTorch tensor and ensure it is of type FloatTensor\n",
        "validation_tensor = torch.as_tensor(validation).type(torch.FloatTensor)\n",
        "\n",
        "# Convert the split validation label data (NumPy array) to a PyTorch tensor (default type)\n",
        "validation_label = torch.as_tensor(validation_label)"
      ],
      "metadata": {
        "id": "jOg8CjaaxrUZ"
      },
      "execution_count": null,
      "outputs": []
    },
    {
      "cell_type": "markdown",
      "source": [
        "# 4. Create FNN (Feedforward Neural Network)\n",
        "\n",
        "To create a Feedforward Neural Network (FNN) in PyTorch, you need to define a class. The class includes the layers of the network (input, hidden, and output layers), activation functions (like ReLU), and the forward pass for data propagation."
      ],
      "metadata": {
        "id": "Habh3oZDnvnX"
      }
    },
    {
      "cell_type": "markdown",
      "source": [
        "# 4.1. Create model architecture\n",
        "\n",
        "- **Layers:**\n",
        "\n",
        "  - A fully connected neural network consists of a series of fully connected layers.\n",
        "  - The first layer takes the 784 (28 x 28) input pixels and connects to the first 600 node hidden layer. Then we have 600 to 500 hidden layer, 500 to 250 hidden layer and in the end the connection between the last hidden layer and the output layer (with 10 nodes).\n",
        "\n",
        "- **Input:**\n",
        "  - 784 (Image Shape): The input layer size, representing a flattened 28x28 grayscale image with 784 pixels.\n",
        "\n",
        "  - 3 Hidden Layers (600, 500, 250 Nodes): Intermediate layers of the neural network that learn hierarchical features from the input data. Each layer transforms the data to a lower-dimensional representation.\n",
        "\n",
        "  - Output: 10 Neurons: The final layer of the network, where each neuron represents one of the 10 possible classes (e.g., digits 0–9 for digit classification).\n",
        "\n",
        "  - nn.Linear: A PyTorch layer that defines a fully connected (dense) layer. It connects all nodes of one layer to all nodes of the next, enabling transformations with learned weights and biases.\n",
        "\n",
        "- **Forward method:**\n",
        "\n",
        "  - First, we need to reshape tensor x, so I use the view function for it.\n",
        "Second, input data x into the first fully connected layer (`self.fc1(x)`) and then apply a ReLU activation to the nodes in this layer using. Because of the hierarchical nature of this network, we replace x at each stage, feeding it into the next layer.\n",
        "\n",
        "  - We do this through our three fully connected layers, except for the last one.\n",
        "\n",
        "As activation function, we will use ReLU (The Rectified Linear Unit). It gives an output 0 if x is negative and x otherwise. The purpose of the activation function is to introduce non-linearity into the network (non-linear means that the output can not be reproduced from a linear combination of the inputs). To do it in code, we will use `F.relu` - applies the rectified linear unit function element-wise.\n",
        "\n"
      ],
      "metadata": {
        "id": "JwN6Ns_voDPX"
      }
    },
    {
      "cell_type": "code",
      "source": [
        "   # nn.Module - Base class for all neural network modules.\n",
        "class FNet(nn.Module):\n",
        "    \"\"\"\n",
        "    FNet is a Feedforward Neural Network (FNN) with 4 fully connected layers.\n",
        "    The network takes an input of size 784 (e.g., for flattened 28x28 pixel images like MNIST),\n",
        "    processes it through hidden layers, and outputs predictions for 10 classes (e.g., digits 0-9).\n",
        "    \"\"\"\n",
        "\n",
        "    def __init__(self):\n",
        "        \"\"\"\n",
        "        Initializes the layers of the network.\n",
        "        The network has 4 fully connected layers with varying numbers of neurons.\n",
        "        \"\"\"\n",
        "        super(FNet, self).__init__()\n",
        "\n",
        "        # First fully connected layer, connecting 784 input features to 600 hidden neurons\n",
        "        self.fc1 = nn.Linear(in_features=784, out_features=600)\n",
        "\n",
        "        # Second fully connected layer, connecting 600 hidden neurons to 500 neurons\n",
        "        self.fc2 = nn.Linear(in_features=600, out_features=500)\n",
        "\n",
        "        # Third fully connected layer, connecting 500 hidden neurons to 250 neurons\n",
        "        self.fc3 = nn.Linear(in_features=500, out_features=250)\n",
        "\n",
        "        # Fourth fully connected layer, connecting 250 neurons to the 10 output classes\n",
        "        self.fc4 = nn.Linear(in_features=250, out_features=10)\n",
        "\n",
        "    def forward(self, x):\n",
        "        \"\"\"\n",
        "        Defines the forward pass of the network.\n",
        "        The input x is passed through each layer, with ReLU activations applied to the hidden layers.\n",
        "\n",
        "        Args:\n",
        "            x (torch.Tensor): The input tensor, typically a batch of flattened images.\n",
        "\n",
        "        Returns:\n",
        "            torch.Tensor: The output tensor, typically a batch of class scores.\n",
        "        \"\"\"\n",
        "        # Flatten the input to a 1D vector of size 784 (28x28 image flattened)\n",
        "        x = x.view(-1, 784)  # -1 infers the batch size\n",
        "\n",
        "        # Pass the input through the first layer, apply ReLU activation\n",
        "        x = F.relu(self.fc1(x))\n",
        "\n",
        "        # Pass the result through the second layer, apply ReLU activation\n",
        "        x = F.relu(self.fc2(x))\n",
        "\n",
        "        # Pass the result through the third layer, apply ReLU activation\n",
        "        x = F.relu(self.fc3(x))\n",
        "\n",
        "        # Pass the result through the fourth layer to get the final output (raw scores)\n",
        "        x = self.fc4(x)\n",
        "\n",
        "        return x"
      ],
      "metadata": {
        "id": "GRynh4YMxtsA"
      },
      "execution_count": null,
      "outputs": []
    },
    {
      "cell_type": "markdown",
      "source": [
        "# 4.2 Train the model\n",
        "\n",
        "- **Training process:**\n",
        "  - Do a forward pass\n",
        "  - Calculate loss function\n",
        "  - Calculate the gradients\n",
        "  - Change the weights based on gradients\n",
        "  \n",
        "The entire training of the network is based on minimizing the loss function. An optimizer determines, based on the loss function, how each parameter should change. The optimizer solves the credit assignment problem: how do we assign credit to the parameters when the network performs poorly?\n",
        "\n",
        "**Neural Network term explanation:**\n",
        "\n",
        "Training a neural network involves adjusting the weights of the model so it can learn patterns in the data to make accurate predictions. Here's a step-by-step high-level overview:\n",
        "\n",
        " - **Forward Pass:**\n",
        "    - The input data (images) is passed through the network layer by layer.\n",
        "    - Each layer applies its learned weights and biases to the data to compute outputs.\n",
        "    - The final output is compared to the actual labels to measure performance using a loss function.\n",
        "\n",
        " - **Loss Calculation:**\n",
        "  - A loss function (e.g., Cross-Entropy Loss) calculates the difference between the predicted outputs and the actual labels.\n",
        "\n",
        "- **Backward Pass (Backpropagation):**\n",
        "\n",
        "  - The network calculates gradients of the loss with respect to each weight using the chain rule.\n",
        "  - These gradients indicate how each weight contributes to the error.\n",
        "\n",
        "- **Weight Updates:**\n",
        "  - Using an optimizer (e.g., SGD, Adam), the weights are updated based on the calculated gradients to reduce the loss.\n",
        "\n",
        "- **Epochs:**\n",
        "  - The process is repeated for the entire dataset multiple times, called epochs, until the model converges (i.e., the loss stops decreasing significantly).\n",
        "\n",
        "**Explanation of Key terms:**\n",
        "\n",
        "- **Epoch:**\n",
        "  - An epoch is one complete pass of the entire dataset through the network during training.\n",
        "  - Neural networks need multiple epochs because a single pass (one epoch) may not be sufficient for the network to learn complex patterns.\n",
        "\n",
        "- **Batch Size:**\n",
        "\n",
        "  - Instead of passing the entire dataset at once, the data is divided into smaller groups called batches. This makes training efficient and allows for better memory management."
      ],
      "metadata": {
        "id": "xU44me2uqBYH"
      }
    },
    {
      "cell_type": "code",
      "source": [
        "def get_accuracy(predictions, true_labels):\n",
        "    \"\"\"\n",
        "    Calculate the accuracy of the model's predictions.\n",
        "\n",
        "    Args:\n",
        "        predictions (torch.Tensor): A tensor of model's raw output scores (logits),\n",
        "                                     shape [batch_size, num_classes].\n",
        "        true_labels (torch.Tensor): A tensor of the true labels, shape [batch_size].\n",
        "\n",
        "    Returns:\n",
        "        float: The accuracy of the model, represented as a percentage.\n",
        "    \"\"\"\n",
        "\n",
        "    # Get the predicted class by finding the index with the maximum value in each row\n",
        "    # torch.max returns both the values and indices, we use the indices for predictions\n",
        "    _, predicted = torch.max(predictions, 1)\n",
        "\n",
        "    # Compare the predicted labels with the true labels and count the correct predictions\n",
        "    corrects = (predicted == true_labels).sum()\n",
        "\n",
        "    # Calculate accuracy as the ratio of correct predictions to total number of samples\n",
        "    accuracy = 100.0 * corrects / len(true_labels)\n",
        "\n",
        "    # Return the accuracy as a float (percentage value)\n",
        "    return accuracy.item()"
      ],
      "metadata": {
        "id": "DBB1wetasYhO"
      },
      "execution_count": null,
      "outputs": []
    },
    {
      "cell_type": "code",
      "source": [
        "def training(dataloader, epochs, model, criterion, optimizer):\n",
        "    \"\"\"\n",
        "    Trains the neural network model over multiple epochs using a given dataloader, loss function, and optimizer.\n",
        "\n",
        "    Args:\n",
        "        dataloader (torch.utils.data.DataLoader): The data loader for the training dataset.\n",
        "        epochs (int): The number of epochs (iterations over the entire dataset).\n",
        "        model (torch.nn.Module): The neural network model to be trained.\n",
        "        criterion (torch.nn.Module): The loss function used to calculate the error.\n",
        "        optimizer (torch.optim.Optimizer): The optimizer used to update the model weights.\n",
        "\n",
        "    Returns:\n",
        "        tuple: A tuple containing two lists:\n",
        "            - train_accuracies: A list of training accuracy for each epoch.\n",
        "            - train_losses: A list of training loss for each epoch.\n",
        "    \"\"\"\n",
        "\n",
        "    # Initialize lists to store accuracies and losses over epochs\n",
        "    train_accuracies, train_losses = [], []\n",
        "\n",
        "    # Set the model to training mode (enables features like dropout, batch norm)\n",
        "    model.train()\n",
        "\n",
        "    # Loop over the number of epochs\n",
        "    for epoch in range(epochs):\n",
        "\n",
        "        # Initialize variables to track loss and accuracy for each epoch\n",
        "        train_loss = 0\n",
        "        train_accuracy = 0\n",
        "        num_batch = 0\n",
        "\n",
        "        # Iterate over batches in the training dataset\n",
        "        for data, labels in dataloader:\n",
        "\n",
        "            # Zero the gradients from the previous batch to avoid accumulation\n",
        "            optimizer.zero_grad()\n",
        "\n",
        "            # Forward pass: pass the data through the model to get predictions\n",
        "            predictions = model(data)\n",
        "\n",
        "            # Calculate the loss using the predictions and true labels\n",
        "            loss = criterion(predictions, labels)\n",
        "\n",
        "            # Calculate the accuracy for the current batch\n",
        "            accuracy = get_accuracy(predictions, labels)\n",
        "\n",
        "            # Backward pass: compute the gradients with respect to the loss\n",
        "            loss.backward()\n",
        "\n",
        "            # Update the model's weights using the optimizer\n",
        "            optimizer.step()\n",
        "\n",
        "            # Increment the number of batches processed\n",
        "            num_batch += 1\n",
        "\n",
        "            # Accumulate the total loss and accuracy for this epoch\n",
        "            train_loss += loss.item()\n",
        "            train_accuracy += accuracy\n",
        "\n",
        "        # Calculate the average loss and accuracy for the epoch\n",
        "        epoch_accuracy = train_accuracy / num_batch\n",
        "        epoch_loss = train_loss / num_batch\n",
        "\n",
        "        # Append the results to the lists\n",
        "        train_accuracies.append(epoch_accuracy)\n",
        "        train_losses.append(epoch_loss)\n",
        "\n",
        "        # Print the results for the current epoch\n",
        "        print(\"Epoch: {}/{} \".format(epoch + 1, epochs),\n",
        "              \"Training Loss: {:.4f} \".format(epoch_loss),\n",
        "              \"Training accuracy: {:.4f}\".format(epoch_accuracy))\n",
        "\n",
        "    # Return the training accuracy and loss for each epoch\n",
        "    return train_accuracies, train_losses"
      ],
      "metadata": {
        "id": "zfCLXzBzoj9l"
      },
      "execution_count": null,
      "outputs": []
    },
    {
      "cell_type": "code",
      "source": [
        "# Set the random seed to make results reproducible\n",
        "torch.manual_seed(0)\n",
        "\n",
        "# Define the batch size for training\n",
        "batch_size = 128\n",
        "\n",
        "# Create a dataset using the training data and labels\n",
        "train_dataset = torch.utils.data.TensorDataset(train_tensor, train_label)\n",
        "\n",
        "# Create a DataLoader to handle batching, shuffling, and loading the training data\n",
        "trainloader = torch.utils.data.DataLoader(train_dataset, batch_size=batch_size, shuffle=True)\n",
        "\n",
        "# Set the number of epochs (iterations over the entire dataset) for training\n",
        "epochs = 40\n",
        "\n",
        "# Initialize the neural network model\n",
        "net = FNet()\n",
        "\n",
        "# Define the loss function (CrossEntropyLoss is commonly used for classification problems)\n",
        "criterion = nn.CrossEntropyLoss()\n",
        "\n",
        "# Define the optimizer (Adam optimizer with a learning rate of 3e-4)\n",
        "optimizer = torch.optim.Adam(net.parameters(), lr=3e-4)\n",
        "\n",
        "# Start the training process by calling the 'training' function\n",
        "# This will train the model over the specified number of epochs\n",
        "train_accuracies, train_losses = training(trainloader, epochs, net, criterion, optimizer)"
      ],
      "metadata": {
        "id": "2rxeFdlekna9",
        "colab": {
          "base_uri": "https://localhost:8080/"
        },
        "outputId": "8e1cb623-7ac7-472d-97ed-7978857572f6"
      },
      "execution_count": null,
      "outputs": [
        {
          "output_type": "stream",
          "name": "stdout",
          "text": [
            "Epoch: 1/40  Training Loss: 0.3124  Training accuracy: 91.0290\n",
            "Epoch: 2/40  Training Loss: 0.0938  Training accuracy: 97.0621\n",
            "Epoch: 3/40  Training Loss: 0.0529  Training accuracy: 98.3276\n",
            "Epoch: 4/40  Training Loss: 0.0318  Training accuracy: 99.0019\n",
            "Epoch: 5/40  Training Loss: 0.0288  Training accuracy: 99.0524\n",
            "Epoch: 6/40  Training Loss: 0.0261  Training accuracy: 99.1564\n",
            "Epoch: 7/40  Training Loss: 0.0201  Training accuracy: 99.3435\n",
            "Epoch: 8/40  Training Loss: 0.0241  Training accuracy: 99.2098\n",
            "Epoch: 9/40  Training Loss: 0.0198  Training accuracy: 99.3702\n",
            "Epoch: 10/40  Training Loss: 0.0224  Training accuracy: 99.2098\n",
            "Epoch: 11/40  Training Loss: 0.0186  Training accuracy: 99.4445\n",
            "Epoch: 12/40  Training Loss: 0.0154  Training accuracy: 99.4861\n",
            "Epoch: 13/40  Training Loss: 0.0234  Training accuracy: 99.2574\n",
            "Epoch: 14/40  Training Loss: 0.0113  Training accuracy: 99.6584\n",
            "Epoch: 15/40  Training Loss: 0.0184  Training accuracy: 99.4297\n",
            "Epoch: 16/40  Training Loss: 0.0223  Training accuracy: 99.2366\n",
            "Epoch: 17/40  Training Loss: 0.0167  Training accuracy: 99.4683\n",
            "Epoch: 18/40  Training Loss: 0.0147  Training accuracy: 99.5247\n",
            "Epoch: 19/40  Training Loss: 0.0103  Training accuracy: 99.6911\n",
            "Epoch: 20/40  Training Loss: 0.0125  Training accuracy: 99.7000\n",
            "Epoch: 21/40  Training Loss: 0.0150  Training accuracy: 99.5930\n",
            "Epoch: 22/40  Training Loss: 0.0131  Training accuracy: 99.6257\n",
            "Epoch: 23/40  Training Loss: 0.0128  Training accuracy: 99.5841\n",
            "Epoch: 24/40  Training Loss: 0.0083  Training accuracy: 99.7891\n",
            "Epoch: 25/40  Training Loss: 0.0061  Training accuracy: 99.8158\n",
            "Epoch: 26/40  Training Loss: 0.0098  Training accuracy: 99.7000\n",
            "Epoch: 27/40  Training Loss: 0.0209  Training accuracy: 99.4683\n",
            "Epoch: 28/40  Training Loss: 0.0123  Training accuracy: 99.6584\n",
            "Epoch: 29/40  Training Loss: 0.0156  Training accuracy: 99.6019\n",
            "Epoch: 30/40  Training Loss: 0.0047  Training accuracy: 99.8752\n",
            "Epoch: 31/40  Training Loss: 0.0028  Training accuracy: 99.9228\n",
            "Epoch: 32/40  Training Loss: 0.0133  Training accuracy: 99.6614\n",
            "Epoch: 33/40  Training Loss: 0.0129  Training accuracy: 99.6822\n",
            "Epoch: 34/40  Training Loss: 0.0139  Training accuracy: 99.6435\n",
            "Epoch: 35/40  Training Loss: 0.0042  Training accuracy: 99.8782\n",
            "Epoch: 36/40  Training Loss: 0.0003  Training accuracy: 99.9941\n",
            "Epoch: 37/40  Training Loss: 0.0002  Training accuracy: 99.9911\n",
            "Epoch: 38/40  Training Loss: 0.0001  Training accuracy: 100.0000\n",
            "Epoch: 39/40  Training Loss: 0.0000  Training accuracy: 100.0000\n",
            "Epoch: 40/40  Training Loss: 0.0000  Training accuracy: 100.0000\n"
          ]
        }
      ]
    },
    {
      "cell_type": "markdown",
      "source": [
        "## Interpretation:\n",
        "\n",
        "The training process shows a steady decrease in loss and a rapid increase in accuracy during the initial epochs, indicating effective learning. After stabilizing above 99% accuracy, the model refines its performance with small fluctuations in later epochs. The plateauing loss suggests the model has learned the data well without significant overfitting."
      ],
      "metadata": {
        "id": "Z4GxQKMuiRnQ"
      }
    },
    {
      "cell_type": "markdown",
      "source": [
        "# 5. Model Evaluation\n",
        "\n",
        "It refers to the process of assessing the performance of a trained machine learning model. The goal is to understand how well the model generalizes to unseen data (validation or test data), and to ensure that it performs well across different evaluation metrics."
      ],
      "metadata": {
        "id": "ZeHx0PHGk9zz"
      }
    },
    {
      "cell_type": "code",
      "source": [
        "def train_curves(epochs, train_losses, train_accuracies):\n",
        "    \"\"\"\n",
        "    This function plots the training loss and training accuracy over epochs.\n",
        "\n",
        "    Parameters:\n",
        "    epochs (int): The total number of epochs during training.\n",
        "    train_losses (list): A list of training loss values recorded at each epoch.\n",
        "    train_accuracies (list): A list of training accuracy values recorded at each epoch.\n",
        "\n",
        "    Returns:\n",
        "    None: This function displays a plot showing the training loss and accuracy curves.\n",
        "    \"\"\"\n",
        "\n",
        "    # Create a range for iterations corresponding to each epoch (1 to epochs)\n",
        "    iters = range(1, epochs + 1)\n",
        "\n",
        "    # Set up a figure with two subplots (one for loss and one for accuracy)\n",
        "    fig, (ax1, ax2) = plt.subplots(ncols=2, figsize=(15, 5))\n",
        "\n",
        "    # Set the title for the entire figure\n",
        "    fig.suptitle('Training Curve')\n",
        "\n",
        "    # Plot the training loss on the first subplot (ax1)\n",
        "    ax1.plot(iters, train_losses)\n",
        "    ax1.set_xlabel(\"Iterations\")  # Label for the x-axis\n",
        "    ax1.set_ylabel(\"Loss\")  # Label for the y-axis\n",
        "\n",
        "    # Plot the training accuracy on the second subplot (ax2) with a green color\n",
        "    ax2.plot(iters, train_accuracies, color='g')\n",
        "    ax2.set_xlabel(\"Iterations\")  # Label for the x-axis\n",
        "    ax2.set_ylabel(\"Training Accuracy\")  # Label for the y-axis\n",
        "\n",
        "    # Display the plot\n",
        "    plt.show()"
      ],
      "metadata": {
        "id": "ZT8HVsHlynWi"
      },
      "execution_count": null,
      "outputs": []
    },
    {
      "cell_type": "code",
      "source": [
        "# Call the function to plot the training loss and accuracy curves\n",
        "train_curves(epochs, train_losses, train_accuracies)"
      ],
      "metadata": {
        "id": "qOJRfHhbyN57",
        "colab": {
          "base_uri": "https://localhost:8080/",
          "height": 515
        },
        "outputId": "1f18a989-90d2-4430-d864-3b00b1d62e10"
      },
      "execution_count": null,
      "outputs": [
        {
          "output_type": "display_data",
          "data": {
            "text/plain": [
              "<Figure size 1500x500 with 2 Axes>"
            ],
            "image/png": "[encoded data removed]"
          },
          "metadata": {}
        }
      ]
    },
    {
      "cell_type": "markdown",
      "source": [
        "##Interpretation:\n",
        "\n",
        "**The training curves show the following:**\n",
        "\n",
        "  - **Loss Curve (Left Plot):** The training loss decreases sharply in the first few iterations and then stabilizes with minor fluctuations. This indicates rapid learning during initial epochs and gradual convergence as the model optimizes further.\n",
        "\n",
        "  - **Accuracy Curve (Right Plot):** Training accuracy improves significantly in early iterations, surpassing 98% by epoch 5, and gradually approaches 100% with slight fluctuations. This suggests the model is effectively learning and refining its predictions."
      ],
      "metadata": {
        "id": "h7KjbviOi04H"
      }
    },
    {
      "cell_type": "code",
      "source": [
        "# set net in test (evaluation) mode\n",
        "net.eval()\n",
        "\n",
        "# get predictions\n",
        "val_predictions = net(validation_tensor)\n",
        "\n",
        "val_loss = criterion(val_predictions, validation_label)\n",
        "\n",
        "# Compute the accuracy by comparing the predicted labels with the true validation labels.\n",
        "val_accuracy = get_accuracy(val_predictions, validation_label)\n",
        "\n",
        "# Print the results\n",
        "print(\"Validation Loss: \", str(val_loss.item()), \"Validation Accuracy: \", str(val_accuracy))\n",
        "\n",
        "# to get class with the maximum score as prediction\n",
        "_, val_predicted = torch.max(val_predictions.data, 1)\n",
        "\n",
        "# Create the confusion matrix comparing the true validation labels ('validation_label') with the predicted labels ('val_predicted').\n",
        "confusion_matrix(validation_label, val_predicted)"
      ],
      "metadata": {
        "id": "TCw-nSGk1hI0",
        "colab": {
          "base_uri": "https://localhost:8080/"
        },
        "outputId": "2aa9a16e-0d33-4e8e-e559-7bae9adddde7"
      },
      "execution_count": null,
      "outputs": [
        {
          "output_type": "stream",
          "name": "stdout",
          "text": [
            "Validation Loss:  0.13184182345867157 Validation Accuracy:  97.80952453613281\n"
          ]
        },
        {
          "output_type": "execute_result",
          "data": {
            "text/plain": [
              "array([[827,   0,   0,   1,   0,   1,   0,   0,   2,   2],\n",
              "       [  0, 908,   1,   0,   0,   1,   0,   1,   4,   0],\n",
              "       [  2,   1, 783,   3,   1,   1,   0,   6,   2,   2],\n",
              "       [  2,   1,   4, 883,   0,  11,   0,   2,   6,   3],\n",
              "       [  0,   3,   1,   0, 793,   0,   3,   2,   1,  10],\n",
              "       [  3,   0,   1,   6,   1, 725,   3,   1,   4,   4],\n",
              "       [  1,   0,   1,   0,   1,   3, 826,   0,   1,   0],\n",
              "       [  0,   2,   3,   0,   0,   1,   0, 883,   1,  10],\n",
              "       [  1,   2,   4,   2,   3,   4,   1,   1, 789,   3],\n",
              "       [  1,   2,   2,   7,   8,   7,   1,   5,   3, 799]])"
            ]
          },
          "metadata": {},
          "execution_count": 18
        }
      ]
    },
    {
      "cell_type": "markdown",
      "source": [
        "##Interpretation:\n",
        "The confusion matrix summarizes the model's classification performance by showing correct predictions along the diagonal and misclassifications in off-diagonal entries. Most predictions fall along the diagonal, indicating strong performance across classes. Misclassifications are scattered, but their relative scarcity reflects the model's overall accuracy and effectiveness."
      ],
      "metadata": {
        "id": "LxOoLOJ8jjwO"
      }
    },
    {
      "cell_type": "code",
      "source": [
        "# Call the plotting function to visualize the model's performance\n",
        "plot_img(validation, val_predicted)"
      ],
      "metadata": {
        "id": "H3_B6FJsCNMX",
        "colab": {
          "base_uri": "https://localhost:8080/",
          "height": 433
        },
        "outputId": "1e005958-5c54-4763-b76c-20071f58feed"
      },
      "execution_count": null,
      "outputs": [
        {
          "output_type": "display_data",
          "data": {
            "text/plain": [
              "<Figure size 640x480 with 9 Axes>"
            ],
            "image/png": "[encoded data removed]"
          },
          "metadata": {}
        }
      ]
    },
    {
      "cell_type": "code",
      "source": [
        "# Identify the misclassified samples in the validation set\n",
        "# 'validation_label' contains the actual target values, and 'val_predicted' contains the predicted values.\n",
        "# The condition 'validation_label != val_predicted' identifies where the prediction is incorrect.\n",
        "val_wrong = validation[validation_label != val_predicted]  # Extracts the data points where prediction was wrong\n",
        "\n",
        "# 'val_lab_wrong' stores the corresponding predicted values for the misclassified samples\n",
        "val_lab_wrong = val_predicted[validation_label != val_predicted]  # Extracts predicted values for the misclassified samples\n",
        "\n",
        "# Plotting the misclassified samples against their predicted labels\n",
        "# The plot will show how the model performed for the wrongly classified samples.\n",
        "plot_img(val_wrong, val_lab_wrong)  # Visualizes the incorrectly predicted validation samples"
      ],
      "metadata": {
        "id": "YxA9VRcTuehV",
        "colab": {
          "base_uri": "https://localhost:8080/",
          "height": 433
        },
        "outputId": "b4b67219-c776-43a6-8b63-b5b79aefcc07"
      },
      "execution_count": null,
      "outputs": [
        {
          "output_type": "display_data",
          "data": {
            "text/plain": [
              "<Figure size 640x480 with 9 Axes>"
            ],
            "image/png": "[encoded data removed]"
          },
          "metadata": {}
        }
      ]
    },
    {
      "cell_type": "markdown",
      "source": [
        "## Conclusion\n",
        "\n",
        "In this notebook, we trained a neural network model for handwriting recognition, classifying images of digits (0-9). By monitoring the training loss and accuracy over epochs, we observed steady improvement in performance as the model learned from the data.\n",
        "\n",
        "**Key Takeaways:**\n",
        "  - **Training Process:** The model's performance improves over epochs, showcasing the importance of iterative learning in handwriting recognition.\n",
        "  - **Accuracy vs Loss:** Lower loss typically leads to higher accuracy, indicating effective model learning.\n",
        "  - **Confusion Matrix:** It revealed specific misclassifications, which is useful for refining the model.\n",
        "\n",
        "This exercise highlights the importance of training, evaluation, and understanding model behavior through metrics like loss, accuracy, and confusion matrix in handwriting recognition tasks."
      ],
      "metadata": {
        "id": "UBF1uR-3h3Ea"
      }
    }
  ]
}